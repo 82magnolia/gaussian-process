{
 "cells": [
  {
   "cell_type": "code",
   "execution_count": 2,
   "metadata": {
    "collapsed": true
   },
   "outputs": [],
   "source": [
    "import numpy as np"
   ]
  },
  {
   "cell_type": "code",
   "execution_count": 3,
   "metadata": {
    "collapsed": true
   },
   "outputs": [],
   "source": [
    "import scipy as sp"
   ]
  },
  {
   "cell_type": "code",
   "execution_count": 4,
   "metadata": {
    "collapsed": true
   },
   "outputs": [],
   "source": [
    "import matplotlib as mp"
   ]
  },
  {
   "cell_type": "code",
   "execution_count": 5,
   "metadata": {
    "collapsed": true
   },
   "outputs": [],
   "source": [
    "import pandas as pd"
   ]
  },
  {
   "cell_type": "code",
   "execution_count": 63,
   "metadata": {
    "collapsed": true
   },
   "outputs": [],
   "source": [
    "data = np.genfromtxt('abalone.csv', delimiter = ',',dtype = 'unicode')"
   ]
  },
  {
   "cell_type": "code",
   "execution_count": 66,
   "metadata": {
    "collapsed": true
   },
   "outputs": [],
   "source": [
    "np.random.shuffle(data)"
   ]
  },
  {
   "cell_type": "code",
   "execution_count": 226,
   "metadata": {
    "collapsed": true
   },
   "outputs": [],
   "source": [
    "cut_data = np.array(data[:1000,:],copy =True)"
   ]
  },
  {
   "cell_type": "code",
   "execution_count": 97,
   "metadata": {
    "collapsed": true
   },
   "outputs": [],
   "source": [
    "new_data = np.zeros((data.shape[0],11))\n",
    "for i in range(data.shape[0]):\n",
    "    if data[i][0] == 'M':\n",
    "        new_data[i][0] = 1\n",
    "        new_data[i][1] = 0\n",
    "        new_data[i][2] = 0\n",
    "        new_data[i,3:] = data[i,1:]\n",
    "    if data[i][0] == 'F':\n",
    "        new_data[i][0] = 0\n",
    "        new_data[i][1] = 1\n",
    "        new_data[i][2] = 0\n",
    "        new_data[i,3:] = data[i,1:]\n",
    "    if data[i][0] == 'I':\n",
    "        new_data[i][0] = 0\n",
    "        new_data[i][1] = 0\n",
    "        new_data[i][2] = 1\n",
    "        new_data[i,3:] = data[i,1:]"
   ]
  },
  {
   "cell_type": "code",
   "execution_count": 98,
   "metadata": {
    "collapsed": true
   },
   "outputs": [],
   "source": [
    "new_cut_data = np.zeros((cut_data.shape[0],11))\n",
    "for i in range(cut_data.shape[0]):\n",
    "    if cut_data[i][0] == 'M':\n",
    "        new_cut_data[i][0] = 1\n",
    "        new_cut_data[i][1] = 0\n",
    "        new_cut_data[i][2] = 0\n",
    "        new_cut_data[i,3:] = cut_data[i,1:]\n",
    "    if cut_data[i][0] == 'F':\n",
    "        new_cut_data[i][0] = 0\n",
    "        new_cut_data[i][1] = 1\n",
    "        new_cut_data[i][2] = 0\n",
    "        new_cut_data[i,3:] = cut_data[i,1:]\n",
    "    if cut_data[i][0] == 'I':\n",
    "        new_cut_data[i][0] = 0\n",
    "        new_cut_data[i][1] = 0\n",
    "        new_cut_data[i][2] = 1\n",
    "        new_cut_data[i,3:] = cut_data[i,1:]"
   ]
  },
  {
   "cell_type": "code",
   "execution_count": 99,
   "metadata": {},
   "outputs": [],
   "source": [
    "y = np.array(new_data[:,10], copy = True)\n",
    "y_cut = np.array(new_cut_data[:,10], copy = True)"
   ]
  },
  {
   "cell_type": "code",
   "execution_count": 100,
   "metadata": {
    "collapsed": true
   },
   "outputs": [],
   "source": [
    "raw = np.array(new_data[:,:10], copy = True)\n",
    "raw_cut = np.array(new_cut_data[:,:10], copy =True)"
   ]
  },
  {
   "cell_type": "code",
   "execution_count": 101,
   "metadata": {
    "collapsed": true
   },
   "outputs": [],
   "source": [
    "cooked = (raw - np.mean(raw, axis = 0))/np.std(raw, axis = 0)\n",
    "cooked_cut = (raw_cut - np.mean(raw_cut, axis = 0))/np.std(raw_cut, axis = 0)"
   ]
  },
  {
   "cell_type": "code",
   "execution_count": 102,
   "metadata": {},
   "outputs": [],
   "source": [
    "dist = [np.linalg.norm(cooked[np.random.randint(cooked.shape[0], size = 1),:] - cooked[np.random.randint(cooked.shape[0], size = 1),:]) for i in range(1000) ]"
   ]
  },
  {
   "cell_type": "code",
   "execution_count": 103,
   "metadata": {},
   "outputs": [],
   "source": [
    "dist = np.sort(dist)\n",
    "quantile = np.array(dist[[50,100,500,900,950]], copy=True)"
   ]
  },
  {
   "cell_type": "code",
   "execution_count": 222,
   "metadata": {},
   "outputs": [],
   "source": [
    "dist2 = [np.linalg.norm(raw[np.random.randint(raw.shape[0], size = 1),:] - raw[np.random.randint(raw.shape[0], size = 1),:]) for i in range(1000) ]\n",
    "dist2 = np.sort(dist2)\n",
    "quantile2 = np.array(dist2[[50,100,500,900,950]], copy = True)"
   ]
  },
  {
   "cell_type": "code",
   "execution_count": 113,
   "metadata": {
    "collapsed": true
   },
   "outputs": [],
   "source": [
    "def gaussian_RBF(x_1, x_2, _lambda):\n",
    "    return np.exp(-np.dot(x_1 - x_2, x_1 - x_2)/_lambda**2)"
   ]
  },
  {
   "cell_type": "code",
   "execution_count": 106,
   "metadata": {
    "collapsed": true
   },
   "outputs": [],
   "source": [
    "def train_gp(x_data,_lambda, _sigma):\n",
    "    size = x_data.shape[0]\n",
    "    C = _sigma**2*np.eye(size)\n",
    "    K = [ [gaussian_RBF(x_data[i],x_data[j],_lambda) for i in range(size)] for j in range(size)]\n",
    "    C = C + K\n",
    "    return C"
   ]
  },
  {
   "cell_type": "code",
   "execution_count": 107,
   "metadata": {
    "collapsed": true
   },
   "outputs": [],
   "source": [
    "def predict_mean(x_data, x_test, C, y_data, _lambda):\n",
    "    test_size = x_test.shape[0]\n",
    "    data_size = x_data.shape[0]\n",
    "    inv = np.linalg.inv(C)\n",
    "    factor = np.dot(inv, y_data)\n",
    "    prediction = [np.dot([gaussian_RBF(x_test[i], x_data[j], _lambda) for j in range(data_size)],factor) for i in range(test_size)]\n",
    "    return prediction"
   ]
  },
  {
   "cell_type": "code",
   "execution_count": 132,
   "metadata": {
    "collapsed": true
   },
   "outputs": [],
   "source": [
    "def err(y, pred_y):\n",
    "    return 0.5*np.dot(y - pred_y, y - pred_y)"
   ]
  },
  {
   "cell_type": "code",
   "execution_count": 135,
   "metadata": {
    "collapsed": true
   },
   "outputs": [],
   "source": [
    "def five_fold_CV(x, y, _lambda, _sigma):\n",
    "    size_lambda = _lambda.shape[0]\n",
    "    size_sigma = _sigma.shape[0]\n",
    "    size = x.shape[0]\n",
    "    step = int(size/5)\n",
    "    ls = np.zeros((size_lambda, size_sigma, 5))\n",
    "    train_loss = np.zeros((size_lambda, size_sigma, 5))\n",
    "    for i in range(5):\n",
    "        x_test = x[[step*i + j for j in range(step)],:]\n",
    "        y_test = y[[step*i + j for j in range(step)]]\n",
    "        x_train = x[[j for j in range(step*i)]+[j for j in range(step*(i+1), size)],:]\n",
    "        y_train = y[[j for j in range(step*i)]+[j for j in range(step*(i+1), size)]]\n",
    "        for j in range(size_lambda):\n",
    "            for k in range(size_sigma):\n",
    "                print(j, k, i)\n",
    "                C = train_gp(x_train, _lambda[j], _sigma[k])\n",
    "                pred = predict_mean(x_train, x_test, C, y_train, _lambda[j])\n",
    "                pred_train = predict_mean(x_train, x_train, C, y_train, _lambda[j])\n",
    "                ls[j,k,i] = err(y_test, pred)\n",
    "                train_loss[j, k, i] = err(y_train, pred_train)\n",
    "    return (ls, train_loss)"
   ]
  },
  {
   "cell_type": "code",
   "execution_count": 110,
   "metadata": {
    "collapsed": true
   },
   "outputs": [],
   "source": [
    "_sigma = np.array([0.01,0.03,0.1,0.3,1,3])"
   ]
  },
  {
   "cell_type": "code",
   "execution_count": 141,
   "metadata": {
    "collapsed": true
   },
   "outputs": [
    {
     "name": "stdout",
     "output_type": "stream",
     "text": [
      "0 0 0\n",
      "0 1 0\n",
      "0 2 0\n",
      "0 3 0\n",
      "0 4 0\n",
      "0 5 0\n",
      "1 0 0\n",
      "1 1 0\n",
      "1 2 0\n",
      "1 3 0\n",
      "1 4 0\n",
      "1 5 0\n",
      "2 0 0\n",
      "2 1 0\n",
      "2 2 0\n",
      "2 3 0\n",
      "2 4 0\n",
      "2 5 0\n",
      "3 0 0\n",
      "3 1 0\n",
      "3 2 0\n",
      "3 3 0\n",
      "3 4 0\n",
      "3 5 0\n",
      "4 0 0\n",
      "4 1 0\n",
      "4 2 0\n",
      "4 3 0\n",
      "4 4 0\n",
      "4 5 0\n",
      "0 0 1\n",
      "0 1 1\n",
      "0 2 1\n",
      "0 3 1\n",
      "0 4 1\n",
      "0 5 1\n",
      "1 0 1\n",
      "1 1 1\n",
      "1 2 1\n",
      "1 3 1\n",
      "1 4 1\n",
      "1 5 1\n",
      "2 0 1\n",
      "2 1 1\n",
      "2 2 1\n",
      "2 3 1\n",
      "2 4 1\n",
      "2 5 1\n",
      "3 0 1\n",
      "3 1 1\n",
      "3 2 1\n",
      "3 3 1\n",
      "3 4 1\n",
      "3 5 1\n",
      "4 0 1\n",
      "4 1 1\n",
      "4 2 1\n",
      "4 3 1\n",
      "4 4 1\n",
      "4 5 1\n",
      "0 0 2\n",
      "0 1 2\n",
      "0 2 2\n",
      "0 3 2\n",
      "0 4 2\n",
      "0 5 2\n",
      "1 0 2\n",
      "1 1 2\n",
      "1 2 2\n",
      "1 3 2\n",
      "1 4 2\n",
      "1 5 2\n",
      "2 0 2\n",
      "2 1 2\n",
      "2 2 2\n",
      "2 3 2\n",
      "2 4 2\n",
      "2 5 2\n",
      "3 0 2\n",
      "3 1 2\n",
      "3 2 2\n",
      "3 3 2\n",
      "3 4 2\n",
      "3 5 2\n",
      "4 0 2\n",
      "4 1 2\n",
      "4 2 2\n",
      "4 3 2\n",
      "4 4 2\n",
      "4 5 2\n",
      "0 0 3\n",
      "0 1 3\n",
      "0 2 3\n",
      "0 3 3\n",
      "0 4 3\n",
      "0 5 3\n",
      "1 0 3\n",
      "1 1 3\n",
      "1 2 3\n",
      "1 3 3\n",
      "1 4 3\n",
      "1 5 3\n",
      "2 0 3\n",
      "2 1 3\n",
      "2 2 3\n",
      "2 3 3\n",
      "2 4 3\n",
      "2 5 3\n",
      "3 0 3\n",
      "3 1 3\n",
      "3 2 3\n",
      "3 3 3\n",
      "3 4 3\n",
      "3 5 3\n",
      "4 0 3\n",
      "4 1 3\n",
      "4 2 3\n",
      "4 3 3\n",
      "4 4 3\n",
      "4 5 3\n",
      "0 0 4\n",
      "0 1 4\n",
      "0 2 4\n",
      "0 3 4\n",
      "0 4 4\n",
      "0 5 4\n",
      "1 0 4\n",
      "1 1 4\n",
      "1 2 4\n",
      "1 3 4\n",
      "1 4 4\n",
      "1 5 4\n",
      "2 0 4\n",
      "2 1 4\n",
      "2 2 4\n",
      "2 3 4\n",
      "2 4 4\n",
      "2 5 4\n",
      "3 0 4\n",
      "3 1 4\n",
      "3 2 4\n",
      "3 3 4\n",
      "3 4 4\n",
      "3 5 4\n",
      "4 0 4\n",
      "4 1 4\n",
      "4 2 4\n",
      "4 3 4\n",
      "4 4 4\n",
      "4 5 4\n"
     ]
    }
   ],
   "source": [
    "loss, train_loss = five_fold_CV(cooked_cut, y_cut, quantile, _sigma)\n",
    "loss2, train_loss2 = five_fold_CV(raw_cut, y_cut, quantile2, _sigma)"
   ]
  },
  {
   "cell_type": "code",
   "execution_count": 190,
   "metadata": {
    "collapsed": true
   },
   "outputs": [],
   "source": [
    "loss = loss/100\n",
    "train_loss = train_loss/400\n",
    "loss2 = loss2/100\n",
    "train_loss2 = train_loss2/400"
   ]
  },
  {
   "cell_type": "code",
   "execution_count": 155,
   "metadata": {},
   "outputs": [],
   "source": [
    "temp_loss = np.array(loss, copy = True)\n",
    "temp_train = np.array(train_loss, copy = True)\n",
    "temp_loss2 = np.array(loss2, copy = True)\n",
    "temp_train2 = np.array(train_loss2, copy = True)"
   ]
  },
  {
   "cell_type": "code",
   "execution_count": 191,
   "metadata": {},
   "outputs": [],
   "source": [
    "test_avg = np.mean(loss, axis = 2)\n",
    "train_avg = np.mean(train_loss, axis = 2)\n",
    "testr_avg = np.mean(loss2, axis = 2)\n",
    "trainr_avg = np.mean(train_loss2, axis = 2)"
   ]
  },
  {
   "cell_type": "code",
   "execution_count": 219,
   "metadata": {
    "collapsed": true
   },
   "outputs": [],
   "source": [
    "test_avg2 = np.mean(temp_loss, axis = 2)\n",
    "train_avg2 = np.mean(temp_train, axis = 2)\n",
    "testr_avg2 = np.mean(temp_loss2, axis = 2)\n",
    "trainr_avg2 = np.mean(temp_train2, axis = 2)"
   ]
  },
  {
   "cell_type": "code",
   "execution_count": 195,
   "metadata": {
    "collapsed": true
   },
   "outputs": [],
   "source": [
    "temp_1 = test_avg\n",
    "temp_2 = train_avg\n",
    "temp_3 = testr_avg\n",
    "temp_4 = trainr_avg"
   ]
  },
  {
   "cell_type": "code",
   "execution_count": 197,
   "metadata": {
    "collapsed": true
   },
   "outputs": [],
   "source": [
    "np.savetxt(\"loss_cooked.txt\", temp_1.reshape(30), delimiter = ',')\n",
    "np.savetxt(\"train_cooked.txt\", temp_2.reshape(30), delimiter = ',')\n",
    "np.savetxt(\"loss_raw.txt\", temp_3.reshape(30), delimiter = ',')\n",
    "np.savetxt(\"train_raw.txt\", temp_4.reshape(30), delimiter = ',')"
   ]
  },
  {
   "cell_type": "code",
   "execution_count": 204,
   "metadata": {
    "collapsed": true
   },
   "outputs": [],
   "source": [
    "from IPython.display import display"
   ]
  },
  {
   "cell_type": "code",
   "execution_count": 209,
   "metadata": {
    "collapsed": true
   },
   "outputs": [
    {
     "name": "stdout",
     "output_type": "stream",
     "text": [
      "test_cooked\n"
     ]
    },
    {
     "data": {
      "text/html": [
       "<div>\n",
       "<style>\n",
       "    .dataframe thead tr:only-child th {\n",
       "        text-align: right;\n",
       "    }\n",
       "\n",
       "    .dataframe thead th {\n",
       "        text-align: left;\n",
       "    }\n",
       "\n",
       "    .dataframe tbody tr th {\n",
       "        vertical-align: top;\n",
       "    }\n",
       "</style>\n",
       "<table border=\"1\" class=\"dataframe\">\n",
       "  <thead>\n",
       "    <tr style=\"text-align: right;\">\n",
       "      <th></th>\n",
       "      <th>0.01</th>\n",
       "      <th>0.03</th>\n",
       "      <th>0.1</th>\n",
       "      <th>0.3</th>\n",
       "      <th>1.0</th>\n",
       "      <th>3.0</th>\n",
       "    </tr>\n",
       "  </thead>\n",
       "  <tbody>\n",
       "    <tr>\n",
       "      <th>1.085119</th>\n",
       "      <td>0.031669</td>\n",
       "      <td>0.026379</td>\n",
       "      <td>0.019090</td>\n",
       "      <td>0.015965</td>\n",
       "      <td>0.017504</td>\n",
       "      <td>0.033656</td>\n",
       "    </tr>\n",
       "    <tr>\n",
       "      <th>1.555447</th>\n",
       "      <td>0.037637</td>\n",
       "      <td>0.022300</td>\n",
       "      <td>0.012876</td>\n",
       "      <td>0.010837</td>\n",
       "      <td>0.012256</td>\n",
       "      <td>0.022099</td>\n",
       "    </tr>\n",
       "    <tr>\n",
       "      <th>3.664218</th>\n",
       "      <td>0.014675</td>\n",
       "      <td>0.008627</td>\n",
       "      <td>0.007024</td>\n",
       "      <td>0.006864</td>\n",
       "      <td>0.007611</td>\n",
       "      <td>0.010738</td>\n",
       "    </tr>\n",
       "    <tr>\n",
       "      <th>6.903307</th>\n",
       "      <td>0.015868</td>\n",
       "      <td>0.008535</td>\n",
       "      <td>0.006551</td>\n",
       "      <td>0.006563</td>\n",
       "      <td>0.007120</td>\n",
       "      <td>0.009317</td>\n",
       "    </tr>\n",
       "    <tr>\n",
       "      <th>8.057710</th>\n",
       "      <td>0.017187</td>\n",
       "      <td>0.008398</td>\n",
       "      <td>0.006546</td>\n",
       "      <td>0.006522</td>\n",
       "      <td>0.007151</td>\n",
       "      <td>0.009197</td>\n",
       "    </tr>\n",
       "  </tbody>\n",
       "</table>\n",
       "</div>"
      ],
      "text/plain": [
       "              0.01      0.03      0.10      0.30      1.00      3.00\n",
       "1.085119  0.031669  0.026379  0.019090  0.015965  0.017504  0.033656\n",
       "1.555447  0.037637  0.022300  0.012876  0.010837  0.012256  0.022099\n",
       "3.664218  0.014675  0.008627  0.007024  0.006864  0.007611  0.010738\n",
       "6.903307  0.015868  0.008535  0.006551  0.006563  0.007120  0.009317\n",
       "8.057710  0.017187  0.008398  0.006546  0.006522  0.007151  0.009197"
      ]
     },
     "metadata": {},
     "output_type": "display_data"
    },
    {
     "name": "stdout",
     "output_type": "stream",
     "text": [
      "train_cooked\n"
     ]
    },
    {
     "data": {
      "text/html": [
       "<div>\n",
       "<style>\n",
       "    .dataframe thead tr:only-child th {\n",
       "        text-align: right;\n",
       "    }\n",
       "\n",
       "    .dataframe thead th {\n",
       "        text-align: left;\n",
       "    }\n",
       "\n",
       "    .dataframe tbody tr th {\n",
       "        vertical-align: top;\n",
       "    }\n",
       "</style>\n",
       "<table border=\"1\" class=\"dataframe\">\n",
       "  <thead>\n",
       "    <tr style=\"text-align: right;\">\n",
       "      <th></th>\n",
       "      <th>0.01</th>\n",
       "      <th>0.03</th>\n",
       "      <th>0.1</th>\n",
       "      <th>0.3</th>\n",
       "      <th>1.0</th>\n",
       "      <th>3.0</th>\n",
       "    </tr>\n",
       "  </thead>\n",
       "  <tbody>\n",
       "    <tr>\n",
       "      <th>1.085119</th>\n",
       "      <td>0.000063</td>\n",
       "      <td>0.000340</td>\n",
       "      <td>0.002103</td>\n",
       "      <td>0.007755</td>\n",
       "      <td>0.030374</td>\n",
       "      <td>0.115476</td>\n",
       "    </tr>\n",
       "    <tr>\n",
       "      <th>1.555447</th>\n",
       "      <td>0.000327</td>\n",
       "      <td>0.001589</td>\n",
       "      <td>0.005565</td>\n",
       "      <td>0.011760</td>\n",
       "      <td>0.026866</td>\n",
       "      <td>0.077730</td>\n",
       "    </tr>\n",
       "    <tr>\n",
       "      <th>3.664218</th>\n",
       "      <td>0.006933</td>\n",
       "      <td>0.010841</td>\n",
       "      <td>0.015084</td>\n",
       "      <td>0.018799</td>\n",
       "      <td>0.024626</td>\n",
       "      <td>0.039786</td>\n",
       "    </tr>\n",
       "    <tr>\n",
       "      <th>6.903307</th>\n",
       "      <td>0.013868</td>\n",
       "      <td>0.016743</td>\n",
       "      <td>0.019361</td>\n",
       "      <td>0.021872</td>\n",
       "      <td>0.026074</td>\n",
       "      <td>0.035948</td>\n",
       "    </tr>\n",
       "    <tr>\n",
       "      <th>8.057710</th>\n",
       "      <td>0.015168</td>\n",
       "      <td>0.017717</td>\n",
       "      <td>0.020135</td>\n",
       "      <td>0.022421</td>\n",
       "      <td>0.026608</td>\n",
       "      <td>0.035732</td>\n",
       "    </tr>\n",
       "  </tbody>\n",
       "</table>\n",
       "</div>"
      ],
      "text/plain": [
       "              0.01      0.03      0.10      0.30      1.00      3.00\n",
       "1.085119  0.000063  0.000340  0.002103  0.007755  0.030374  0.115476\n",
       "1.555447  0.000327  0.001589  0.005565  0.011760  0.026866  0.077730\n",
       "3.664218  0.006933  0.010841  0.015084  0.018799  0.024626  0.039786\n",
       "6.903307  0.013868  0.016743  0.019361  0.021872  0.026074  0.035948\n",
       "8.057710  0.015168  0.017717  0.020135  0.022421  0.026608  0.035732"
      ]
     },
     "metadata": {},
     "output_type": "display_data"
    },
    {
     "name": "stdout",
     "output_type": "stream",
     "text": [
      "test_raw\n"
     ]
    },
    {
     "data": {
      "text/html": [
       "<div>\n",
       "<style>\n",
       "    .dataframe thead tr:only-child th {\n",
       "        text-align: right;\n",
       "    }\n",
       "\n",
       "    .dataframe thead th {\n",
       "        text-align: left;\n",
       "    }\n",
       "\n",
       "    .dataframe tbody tr th {\n",
       "        vertical-align: top;\n",
       "    }\n",
       "</style>\n",
       "<table border=\"1\" class=\"dataframe\">\n",
       "  <thead>\n",
       "    <tr style=\"text-align: right;\">\n",
       "      <th></th>\n",
       "      <th>0.01</th>\n",
       "      <th>0.03</th>\n",
       "      <th>0.1</th>\n",
       "      <th>0.3</th>\n",
       "      <th>1.0</th>\n",
       "      <th>3.0</th>\n",
       "    </tr>\n",
       "  </thead>\n",
       "  <tbody>\n",
       "    <tr>\n",
       "      <th>0.137472</th>\n",
       "      <td>0.028335</td>\n",
       "      <td>0.024640</td>\n",
       "      <td>0.021030</td>\n",
       "      <td>0.018700</td>\n",
       "      <td>0.021272</td>\n",
       "      <td>0.046313</td>\n",
       "    </tr>\n",
       "    <tr>\n",
       "      <th>0.231811</th>\n",
       "      <td>0.028003</td>\n",
       "      <td>0.019458</td>\n",
       "      <td>0.013643</td>\n",
       "      <td>0.011532</td>\n",
       "      <td>0.013121</td>\n",
       "      <td>0.026878</td>\n",
       "    </tr>\n",
       "    <tr>\n",
       "      <th>1.455076</th>\n",
       "      <td>0.009675</td>\n",
       "      <td>0.006771</td>\n",
       "      <td>0.006315</td>\n",
       "      <td>0.006332</td>\n",
       "      <td>0.007469</td>\n",
       "      <td>0.010000</td>\n",
       "    </tr>\n",
       "    <tr>\n",
       "      <th>1.906633</th>\n",
       "      <td>0.008032</td>\n",
       "      <td>0.006435</td>\n",
       "      <td>0.006307</td>\n",
       "      <td>0.006285</td>\n",
       "      <td>0.007643</td>\n",
       "      <td>0.009570</td>\n",
       "    </tr>\n",
       "    <tr>\n",
       "      <th>2.037235</th>\n",
       "      <td>0.007674</td>\n",
       "      <td>0.006406</td>\n",
       "      <td>0.006306</td>\n",
       "      <td>0.006285</td>\n",
       "      <td>0.007701</td>\n",
       "      <td>0.009507</td>\n",
       "    </tr>\n",
       "  </tbody>\n",
       "</table>\n",
       "</div>"
      ],
      "text/plain": [
       "              0.01      0.03      0.10      0.30      1.00      3.00\n",
       "0.137472  0.028335  0.024640  0.021030  0.018700  0.021272  0.046313\n",
       "0.231811  0.028003  0.019458  0.013643  0.011532  0.013121  0.026878\n",
       "1.455076  0.009675  0.006771  0.006315  0.006332  0.007469  0.010000\n",
       "1.906633  0.008032  0.006435  0.006307  0.006285  0.007643  0.009570\n",
       "2.037235  0.007674  0.006406  0.006306  0.006285  0.007701  0.009507"
      ]
     },
     "metadata": {},
     "output_type": "display_data"
    },
    {
     "name": "stdout",
     "output_type": "stream",
     "text": [
      "train_raw\n"
     ]
    },
    {
     "data": {
      "text/html": [
       "<div>\n",
       "<style>\n",
       "    .dataframe thead tr:only-child th {\n",
       "        text-align: right;\n",
       "    }\n",
       "\n",
       "    .dataframe thead th {\n",
       "        text-align: left;\n",
       "    }\n",
       "\n",
       "    .dataframe tbody tr th {\n",
       "        vertical-align: top;\n",
       "    }\n",
       "</style>\n",
       "<table border=\"1\" class=\"dataframe\">\n",
       "  <thead>\n",
       "    <tr style=\"text-align: right;\">\n",
       "      <th></th>\n",
       "      <th>0.01</th>\n",
       "      <th>0.03</th>\n",
       "      <th>0.1</th>\n",
       "      <th>0.3</th>\n",
       "      <th>1.0</th>\n",
       "      <th>3.0</th>\n",
       "    </tr>\n",
       "  </thead>\n",
       "  <tbody>\n",
       "    <tr>\n",
       "      <th>0.137472</th>\n",
       "      <td>0.000010</td>\n",
       "      <td>0.000061</td>\n",
       "      <td>0.000310</td>\n",
       "      <td>0.001440</td>\n",
       "      <td>0.008268</td>\n",
       "      <td>0.039562</td>\n",
       "    </tr>\n",
       "    <tr>\n",
       "      <th>0.231811</th>\n",
       "      <td>0.000096</td>\n",
       "      <td>0.000392</td>\n",
       "      <td>0.001360</td>\n",
       "      <td>0.002868</td>\n",
       "      <td>0.006865</td>\n",
       "      <td>0.023646</td>\n",
       "    </tr>\n",
       "    <tr>\n",
       "      <th>1.455076</th>\n",
       "      <td>0.003783</td>\n",
       "      <td>0.004345</td>\n",
       "      <td>0.004887</td>\n",
       "      <td>0.005498</td>\n",
       "      <td>0.006954</td>\n",
       "      <td>0.009590</td>\n",
       "    </tr>\n",
       "    <tr>\n",
       "      <th>1.906633</th>\n",
       "      <td>0.004187</td>\n",
       "      <td>0.004644</td>\n",
       "      <td>0.005178</td>\n",
       "      <td>0.005680</td>\n",
       "      <td>0.007264</td>\n",
       "      <td>0.009293</td>\n",
       "    </tr>\n",
       "    <tr>\n",
       "      <th>2.037235</th>\n",
       "      <td>0.004272</td>\n",
       "      <td>0.004711</td>\n",
       "      <td>0.005245</td>\n",
       "      <td>0.005723</td>\n",
       "      <td>0.007348</td>\n",
       "      <td>0.009255</td>\n",
       "    </tr>\n",
       "  </tbody>\n",
       "</table>\n",
       "</div>"
      ],
      "text/plain": [
       "              0.01      0.03      0.10      0.30      1.00      3.00\n",
       "0.137472  0.000010  0.000061  0.000310  0.001440  0.008268  0.039562\n",
       "0.231811  0.000096  0.000392  0.001360  0.002868  0.006865  0.023646\n",
       "1.455076  0.003783  0.004345  0.004887  0.005498  0.006954  0.009590\n",
       "1.906633  0.004187  0.004644  0.005178  0.005680  0.007264  0.009293\n",
       "2.037235  0.004272  0.004711  0.005245  0.005723  0.007348  0.009255"
      ]
     },
     "metadata": {},
     "output_type": "display_data"
    }
   ],
   "source": [
    "p1 = pd.DataFrame(test_avg, columns = _sigma, index = quantile)\n",
    "p2 = pd.DataFrame(train_avg, columns = _sigma, index = quantile)\n",
    "p3 = pd.DataFrame(testr_avg, columns = _sigma, index = quantile2)\n",
    "p4 = pd.DataFrame(trainr_avg, columns = _sigma, index = quantile2)\n",
    "print(\"test_cooked\")\n",
    "display(p1)\n",
    "print(\"train_cooked\")\n",
    "display(p2)\n",
    "print(\"test_raw\")\n",
    "display(p3)\n",
    "print(\"train_raw\")\n",
    "display(p4)"
   ]
  },
  {
   "cell_type": "code",
   "execution_count": 221,
   "metadata": {
    "collapsed": true
   },
   "outputs": [
    {
     "name": "stdout",
     "output_type": "stream",
     "text": [
      "test_cooked\n"
     ]
    },
    {
     "data": {
      "text/html": [
       "<div>\n",
       "<style>\n",
       "    .dataframe thead tr:only-child th {\n",
       "        text-align: right;\n",
       "    }\n",
       "\n",
       "    .dataframe thead th {\n",
       "        text-align: left;\n",
       "    }\n",
       "\n",
       "    .dataframe tbody tr th {\n",
       "        vertical-align: top;\n",
       "    }\n",
       "</style>\n",
       "<table border=\"1\" class=\"dataframe\">\n",
       "  <thead>\n",
       "    <tr style=\"text-align: right;\">\n",
       "      <th></th>\n",
       "      <th>0.01</th>\n",
       "      <th>0.03</th>\n",
       "      <th>0.1</th>\n",
       "      <th>0.3</th>\n",
       "      <th>1.0</th>\n",
       "      <th>3.0</th>\n",
       "    </tr>\n",
       "  </thead>\n",
       "  <tbody>\n",
       "    <tr>\n",
       "      <th>1.085119</th>\n",
       "      <td>1266.769112</td>\n",
       "      <td>1055.142877</td>\n",
       "      <td>763.603643</td>\n",
       "      <td>638.614532</td>\n",
       "      <td>700.162738</td>\n",
       "      <td>1346.251618</td>\n",
       "    </tr>\n",
       "    <tr>\n",
       "      <th>1.555447</th>\n",
       "      <td>1505.467461</td>\n",
       "      <td>892.019349</td>\n",
       "      <td>515.032206</td>\n",
       "      <td>433.486357</td>\n",
       "      <td>490.253239</td>\n",
       "      <td>883.953463</td>\n",
       "    </tr>\n",
       "    <tr>\n",
       "      <th>3.664218</th>\n",
       "      <td>587.003868</td>\n",
       "      <td>345.081765</td>\n",
       "      <td>280.947702</td>\n",
       "      <td>274.550093</td>\n",
       "      <td>304.426652</td>\n",
       "      <td>429.519184</td>\n",
       "    </tr>\n",
       "    <tr>\n",
       "      <th>6.903307</th>\n",
       "      <td>634.718733</td>\n",
       "      <td>341.418518</td>\n",
       "      <td>262.027537</td>\n",
       "      <td>262.511806</td>\n",
       "      <td>284.812564</td>\n",
       "      <td>372.697863</td>\n",
       "    </tr>\n",
       "    <tr>\n",
       "      <th>8.057710</th>\n",
       "      <td>687.493928</td>\n",
       "      <td>335.933377</td>\n",
       "      <td>261.847948</td>\n",
       "      <td>260.866121</td>\n",
       "      <td>286.041803</td>\n",
       "      <td>367.895548</td>\n",
       "    </tr>\n",
       "  </tbody>\n",
       "</table>\n",
       "</div>"
      ],
      "text/plain": [
       "                 0.01         0.03        0.10        0.30        1.00  \\\n",
       "1.085119  1266.769112  1055.142877  763.603643  638.614532  700.162738   \n",
       "1.555447  1505.467461   892.019349  515.032206  433.486357  490.253239   \n",
       "3.664218   587.003868   345.081765  280.947702  274.550093  304.426652   \n",
       "6.903307   634.718733   341.418518  262.027537  262.511806  284.812564   \n",
       "8.057710   687.493928   335.933377  261.847948  260.866121  286.041803   \n",
       "\n",
       "                 3.00  \n",
       "1.085119  1346.251618  \n",
       "1.555447   883.953463  \n",
       "3.664218   429.519184  \n",
       "6.903307   372.697863  \n",
       "8.057710   367.895548  "
      ]
     },
     "metadata": {},
     "output_type": "display_data"
    },
    {
     "name": "stdout",
     "output_type": "stream",
     "text": [
      "train_cooked\n"
     ]
    },
    {
     "data": {
      "text/html": [
       "<div>\n",
       "<style>\n",
       "    .dataframe thead tr:only-child th {\n",
       "        text-align: right;\n",
       "    }\n",
       "\n",
       "    .dataframe thead th {\n",
       "        text-align: left;\n",
       "    }\n",
       "\n",
       "    .dataframe tbody tr th {\n",
       "        vertical-align: top;\n",
       "    }\n",
       "</style>\n",
       "<table border=\"1\" class=\"dataframe\">\n",
       "  <thead>\n",
       "    <tr style=\"text-align: right;\">\n",
       "      <th></th>\n",
       "      <th>0.01</th>\n",
       "      <th>0.03</th>\n",
       "      <th>0.1</th>\n",
       "      <th>0.3</th>\n",
       "      <th>1.0</th>\n",
       "      <th>3.0</th>\n",
       "    </tr>\n",
       "  </thead>\n",
       "  <tbody>\n",
       "    <tr>\n",
       "      <th>1.085119</th>\n",
       "      <td>2.525599</td>\n",
       "      <td>13.600873</td>\n",
       "      <td>84.130979</td>\n",
       "      <td>310.191299</td>\n",
       "      <td>1214.953877</td>\n",
       "      <td>4619.025644</td>\n",
       "    </tr>\n",
       "    <tr>\n",
       "      <th>1.555447</th>\n",
       "      <td>13.089870</td>\n",
       "      <td>63.549900</td>\n",
       "      <td>222.583576</td>\n",
       "      <td>470.398572</td>\n",
       "      <td>1074.634716</td>\n",
       "      <td>3109.196513</td>\n",
       "    </tr>\n",
       "    <tr>\n",
       "      <th>3.664218</th>\n",
       "      <td>277.330009</td>\n",
       "      <td>433.659995</td>\n",
       "      <td>603.348157</td>\n",
       "      <td>751.944132</td>\n",
       "      <td>985.037896</td>\n",
       "      <td>1591.442529</td>\n",
       "    </tr>\n",
       "    <tr>\n",
       "      <th>6.903307</th>\n",
       "      <td>554.737098</td>\n",
       "      <td>669.726787</td>\n",
       "      <td>774.457088</td>\n",
       "      <td>874.875741</td>\n",
       "      <td>1042.949056</td>\n",
       "      <td>1437.901798</td>\n",
       "    </tr>\n",
       "    <tr>\n",
       "      <th>8.057710</th>\n",
       "      <td>606.702079</td>\n",
       "      <td>708.680893</td>\n",
       "      <td>805.402003</td>\n",
       "      <td>896.842163</td>\n",
       "      <td>1064.305850</td>\n",
       "      <td>1429.264266</td>\n",
       "    </tr>\n",
       "  </tbody>\n",
       "</table>\n",
       "</div>"
      ],
      "text/plain": [
       "                0.01        0.03        0.10        0.30         1.00  \\\n",
       "1.085119    2.525599   13.600873   84.130979  310.191299  1214.953877   \n",
       "1.555447   13.089870   63.549900  222.583576  470.398572  1074.634716   \n",
       "3.664218  277.330009  433.659995  603.348157  751.944132   985.037896   \n",
       "6.903307  554.737098  669.726787  774.457088  874.875741  1042.949056   \n",
       "8.057710  606.702079  708.680893  805.402003  896.842163  1064.305850   \n",
       "\n",
       "                 3.00  \n",
       "1.085119  4619.025644  \n",
       "1.555447  3109.196513  \n",
       "3.664218  1591.442529  \n",
       "6.903307  1437.901798  \n",
       "8.057710  1429.264266  "
      ]
     },
     "metadata": {},
     "output_type": "display_data"
    },
    {
     "name": "stdout",
     "output_type": "stream",
     "text": [
      "test_raw\n"
     ]
    },
    {
     "data": {
      "text/html": [
       "<div>\n",
       "<style>\n",
       "    .dataframe thead tr:only-child th {\n",
       "        text-align: right;\n",
       "    }\n",
       "\n",
       "    .dataframe thead th {\n",
       "        text-align: left;\n",
       "    }\n",
       "\n",
       "    .dataframe tbody tr th {\n",
       "        vertical-align: top;\n",
       "    }\n",
       "</style>\n",
       "<table border=\"1\" class=\"dataframe\">\n",
       "  <thead>\n",
       "    <tr style=\"text-align: right;\">\n",
       "      <th></th>\n",
       "      <th>0.01</th>\n",
       "      <th>0.03</th>\n",
       "      <th>0.1</th>\n",
       "      <th>0.3</th>\n",
       "      <th>1.0</th>\n",
       "      <th>3.0</th>\n",
       "    </tr>\n",
       "  </thead>\n",
       "  <tbody>\n",
       "    <tr>\n",
       "      <th>0.137472</th>\n",
       "      <td>1133.412682</td>\n",
       "      <td>985.584995</td>\n",
       "      <td>841.185985</td>\n",
       "      <td>748.018174</td>\n",
       "      <td>850.867354</td>\n",
       "      <td>1852.521532</td>\n",
       "    </tr>\n",
       "    <tr>\n",
       "      <th>0.231811</th>\n",
       "      <td>1120.124465</td>\n",
       "      <td>778.332461</td>\n",
       "      <td>545.718474</td>\n",
       "      <td>461.265859</td>\n",
       "      <td>524.829865</td>\n",
       "      <td>1075.132552</td>\n",
       "    </tr>\n",
       "    <tr>\n",
       "      <th>1.455076</th>\n",
       "      <td>387.018465</td>\n",
       "      <td>270.831981</td>\n",
       "      <td>252.619661</td>\n",
       "      <td>253.261419</td>\n",
       "      <td>298.745266</td>\n",
       "      <td>399.998490</td>\n",
       "    </tr>\n",
       "    <tr>\n",
       "      <th>1.906633</th>\n",
       "      <td>321.274335</td>\n",
       "      <td>257.389964</td>\n",
       "      <td>252.281810</td>\n",
       "      <td>251.404650</td>\n",
       "      <td>305.735414</td>\n",
       "      <td>382.814250</td>\n",
       "    </tr>\n",
       "    <tr>\n",
       "      <th>2.037235</th>\n",
       "      <td>306.965374</td>\n",
       "      <td>256.234420</td>\n",
       "      <td>252.257672</td>\n",
       "      <td>251.389356</td>\n",
       "      <td>308.053695</td>\n",
       "      <td>380.290471</td>\n",
       "    </tr>\n",
       "  </tbody>\n",
       "</table>\n",
       "</div>"
      ],
      "text/plain": [
       "                 0.01        0.03        0.10        0.30        1.00  \\\n",
       "0.137472  1133.412682  985.584995  841.185985  748.018174  850.867354   \n",
       "0.231811  1120.124465  778.332461  545.718474  461.265859  524.829865   \n",
       "1.455076   387.018465  270.831981  252.619661  253.261419  298.745266   \n",
       "1.906633   321.274335  257.389964  252.281810  251.404650  305.735414   \n",
       "2.037235   306.965374  256.234420  252.257672  251.389356  308.053695   \n",
       "\n",
       "                 3.00  \n",
       "0.137472  1852.521532  \n",
       "0.231811  1075.132552  \n",
       "1.455076   399.998490  \n",
       "1.906633   382.814250  \n",
       "2.037235   380.290471  "
      ]
     },
     "metadata": {},
     "output_type": "display_data"
    },
    {
     "name": "stdout",
     "output_type": "stream",
     "text": [
      "train_raw\n"
     ]
    },
    {
     "data": {
      "text/html": [
       "<div>\n",
       "<style>\n",
       "    .dataframe thead tr:only-child th {\n",
       "        text-align: right;\n",
       "    }\n",
       "\n",
       "    .dataframe thead th {\n",
       "        text-align: left;\n",
       "    }\n",
       "\n",
       "    .dataframe tbody tr th {\n",
       "        vertical-align: top;\n",
       "    }\n",
       "</style>\n",
       "<table border=\"1\" class=\"dataframe\">\n",
       "  <thead>\n",
       "    <tr style=\"text-align: right;\">\n",
       "      <th></th>\n",
       "      <th>0.01</th>\n",
       "      <th>0.03</th>\n",
       "      <th>0.1</th>\n",
       "      <th>0.3</th>\n",
       "      <th>1.0</th>\n",
       "      <th>3.0</th>\n",
       "    </tr>\n",
       "  </thead>\n",
       "  <tbody>\n",
       "    <tr>\n",
       "      <th>0.137472</th>\n",
       "      <td>1.631658</td>\n",
       "      <td>9.700441</td>\n",
       "      <td>49.661751</td>\n",
       "      <td>230.326191</td>\n",
       "      <td>1322.834743</td>\n",
       "      <td>6329.890315</td>\n",
       "    </tr>\n",
       "    <tr>\n",
       "      <th>0.231811</th>\n",
       "      <td>15.352526</td>\n",
       "      <td>62.733501</td>\n",
       "      <td>217.521237</td>\n",
       "      <td>458.833430</td>\n",
       "      <td>1098.438530</td>\n",
       "      <td>3783.413917</td>\n",
       "    </tr>\n",
       "    <tr>\n",
       "      <th>1.455076</th>\n",
       "      <td>605.227991</td>\n",
       "      <td>695.139083</td>\n",
       "      <td>781.900032</td>\n",
       "      <td>879.688609</td>\n",
       "      <td>1112.703039</td>\n",
       "      <td>1534.413847</td>\n",
       "    </tr>\n",
       "    <tr>\n",
       "      <th>1.906633</th>\n",
       "      <td>669.865830</td>\n",
       "      <td>743.035281</td>\n",
       "      <td>828.425741</td>\n",
       "      <td>908.820348</td>\n",
       "      <td>1162.183527</td>\n",
       "      <td>1486.832280</td>\n",
       "    </tr>\n",
       "    <tr>\n",
       "      <th>2.037235</th>\n",
       "      <td>683.445454</td>\n",
       "      <td>753.784312</td>\n",
       "      <td>839.131534</td>\n",
       "      <td>915.642666</td>\n",
       "      <td>1175.633036</td>\n",
       "      <td>1480.742444</td>\n",
       "    </tr>\n",
       "  </tbody>\n",
       "</table>\n",
       "</div>"
      ],
      "text/plain": [
       "                0.01        0.03        0.10        0.30         1.00  \\\n",
       "0.137472    1.631658    9.700441   49.661751  230.326191  1322.834743   \n",
       "0.231811   15.352526   62.733501  217.521237  458.833430  1098.438530   \n",
       "1.455076  605.227991  695.139083  781.900032  879.688609  1112.703039   \n",
       "1.906633  669.865830  743.035281  828.425741  908.820348  1162.183527   \n",
       "2.037235  683.445454  753.784312  839.131534  915.642666  1175.633036   \n",
       "\n",
       "                 3.00  \n",
       "0.137472  6329.890315  \n",
       "0.231811  3783.413917  \n",
       "1.455076  1534.413847  \n",
       "1.906633  1486.832280  \n",
       "2.037235  1480.742444  "
      ]
     },
     "metadata": {},
     "output_type": "display_data"
    }
   ],
   "source": [
    "np1 = pd.DataFrame(test_avg2, columns = _sigma, index = quantile)\n",
    "np2 = pd.DataFrame(train_avg2, columns = _sigma, index = quantile)\n",
    "np3 = pd.DataFrame(testr_avg2, columns = _sigma, index = quantile2)\n",
    "np4 = pd.DataFrame(trainr_avg2, columns = _sigma, index = quantile2)\n",
    "print(\"test_cooked\")\n",
    "display(np1)\n",
    "print(\"train_cooked\")\n",
    "display(np2)\n",
    "print(\"test_raw\")\n",
    "display(np3)\n",
    "print(\"train_raw\")\n",
    "display(np4)"
   ]
  },
  {
   "cell_type": "code",
   "execution_count": 206,
   "metadata": {
    "collapsed": true
   },
   "outputs": [],
   "source": [
    "import matplotlib.pyplot as plt"
   ]
  },
  {
   "cell_type": "code",
   "execution_count": 193,
   "metadata": {
    "collapsed": true
   },
   "outputs": [
    {
     "data": {
      "image/png": "[encoded data removed]",
      "text/plain": [
       "<matplotlib.figure.Figure at 0xb92e89a780>"
      ]
     },
     "metadata": {},
     "output_type": "display_data"
    },
    {
     "data": {
      "image/png": "[encoded data removed]",
      "text/plain": [
       "<matplotlib.figure.Figure at 0xb92ee07e48>"
      ]
     },
     "metadata": {},
     "output_type": "display_data"
    },
    {
     "data": {
      "image/png": "[encoded data removed]",
      "text/plain": [
       "<matplotlib.figure.Figure at 0xb92f25c7b8>"
      ]
     },
     "metadata": {},
     "output_type": "display_data"
    },
    {
     "data": {
      "image/png": "[encoded data removed]",
      "text/plain": [
       "<matplotlib.figure.Figure at 0xb92edd27f0>"
      ]
     },
     "metadata": {},
     "output_type": "display_data"
    },
    {
     "data": {
      "image/png": "[encoded data removed]",
      "text/plain": [
       "<matplotlib.figure.Figure at 0xb92f3a8e10>"
      ]
     },
     "metadata": {},
     "output_type": "display_data"
    }
   ],
   "source": [
    "for i in range(5):\n",
    "    line_1, = plt.plot(_sigma,test_avg[i,:],label = 'validation')\n",
    "    line_2, = plt.plot(_sigma,train_avg[i,:],label = 'train')\n",
    "    plt.legend(handles = [line_1, line_2])\n",
    "    plt.ylabel(\"average error where lambda = \"+str(round(quantile[i], 2)))\n",
    "    plt.xlabel(\"sigma value\")\n",
    "    plt.show()"
   ]
  },
  {
   "cell_type": "code",
   "execution_count": 202,
   "metadata": {
    "collapsed": true
   },
   "outputs": [
    {
     "data": {
      "image/png": "[encoded data removed]",
      "text/plain": [
       "<matplotlib.figure.Figure at 0xb92ee829e8>"
      ]
     },
     "metadata": {},
     "output_type": "display_data"
    },
    {
     "data": {
      "image/png": "[encoded data removed]",
      "text/plain": [
       "<matplotlib.figure.Figure at 0xb92f4fae80>"
      ]
     },
     "metadata": {},
     "output_type": "display_data"
    },
    {
     "data": {
      "image/png": "[encoded data removed]",
      "text/plain": [
       "<matplotlib.figure.Figure at 0xb92f3bfb38>"
      ]
     },
     "metadata": {},
     "output_type": "display_data"
    },
    {
     "data": {
      "image/png": "[encoded data removed]",
      "text/plain": [
       "<matplotlib.figure.Figure at 0xb92f1f7860>"
      ]
     },
     "metadata": {},
     "output_type": "display_data"
    },
    {
     "data": {
      "image/png": "[encoded data removed]",
      "text/plain": [
       "<matplotlib.figure.Figure at 0xb92f335d30>"
      ]
     },
     "metadata": {},
     "output_type": "display_data"
    }
   ],
   "source": [
    "for i in range(5):\n",
    "    line_1, = plt.plot(_sigma,testr_avg[i,:],label = 'test')\n",
    "    line_2, = plt.plot(_sigma,trainr_avg[i,:],label = 'train')\n",
    "    plt.legend(handles = [line_1, line_2])\n",
    "    plt.ylabel(\"error where lambda = \"+str(round(quantile2[i], 2)))\n",
    "    plt.xlabel(\"sigma value\")\n",
    "    plt.show()"
   ]
  }
 ],
 "metadata": {
  "kernelspec": {
   "display_name": "Python 3",
   "language": "python",
   "name": "python3"
  },
  "language_info": {
   "codemirror_mode": {
    "name": "ipython",
    "version": 3
   },
   "file_extension": ".py",
   "mimetype": "text/x-python",
   "name": "python",
   "nbconvert_exporter": "python",
   "pygments_lexer": "ipython3",
   "version": "3.6.1"
  }
 },
 "nbformat": 4,
 "nbformat_minor": 2
}
